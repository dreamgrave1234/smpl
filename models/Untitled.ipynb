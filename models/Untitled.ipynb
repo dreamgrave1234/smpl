{
 "cells": [
  {
   "cell_type": "code",
   "execution_count": 2,
   "metadata": {},
   "outputs": [],
   "source": [
    "import pickle\n",
    "f = \"basicModel_f_lbs_10_207_0_v1.0.0.pkl\"\n",
    "f = pickle.load(open(f))"
   ]
  },
  {
   "cell_type": "code",
   "execution_count": 3,
   "metadata": {},
   "outputs": [
    {
     "data": {
      "text/plain": [
       "(72,)"
      ]
     },
     "execution_count": 3,
     "metadata": {},
     "output_type": "execute_result"
    }
   ],
   "source": [
    "import chumpy as ch\n",
    "import numpy as np\n",
    "from chumpy.ch import MatVecMult\n",
    "from posemapper import posemap\n",
    "nposeparms = f['kintree_table'].shape[1]*3\n",
    "f['betas'] = np.zeros(f['shapedirs'].shape[-1])\n",
    "f['pose'] = np.zeros(nposeparms)\n",
    "f['v_shaped'] = f['shapedirs'].dot(f['betas'])+f['v_template']\n",
    "v_shaped = f['v_shaped']\n",
    "J_tmpx = MatVecMult(f['J_regressor'], v_shaped[:,0])         \n",
    "J_tmpy = MatVecMult(f['J_regressor'], v_shaped[:,1])        \n",
    "J_tmpz = MatVecMult(f['J_regressor'], v_shaped[:,2])        \n",
    "f['J'] = ch.vstack((J_tmpx, J_tmpy, J_tmpz)).T    \n",
    "f['v_posed'] = v_shaped + f['posedirs'].dot(posemap(f['bs_type'])(f['pose']))\n",
    "f['pose'].shape"
   ]
  },
  {
   "cell_type": "code",
   "execution_count": 27,
   "metadata": {},
   "outputs": [
    {
     "data": {
      "text/plain": [
       "array([3, 4, 5, 1, 2, 3, 4, 5])"
      ]
     },
     "execution_count": 27,
     "metadata": {},
     "output_type": "execute_result"
    }
   ],
   "source": [
    "p = np.array([[1,2,3,4,5],[1,2,3,4,5]])\n",
    "a = p.ravel()\n",
    "a[2:]"
   ]
  },
  {
   "cell_type": "code",
   "execution_count": 15,
   "metadata": {},
   "outputs": [
    {
     "ename": "SyntaxError",
     "evalue": "invalid syntax (<ipython-input-15-75bb78ee5d7b>, line 2)",
     "output_type": "error",
     "traceback": [
      "\u001b[0;36m  File \u001b[0;32m\"<ipython-input-15-75bb78ee5d7b>\"\u001b[0;36m, line \u001b[0;32m2\u001b[0m\n\u001b[0;31m    help(cv2.Rodrigues\u001b[0m\n\u001b[0m                      ^\u001b[0m\n\u001b[0;31mSyntaxError\u001b[0m\u001b[0;31m:\u001b[0m invalid syntax\n"
     ]
    }
   ],
   "source": [
    "import cv2\n",
    "help(cv2.Rodrigues"
   ]
  }
 ],
 "metadata": {
  "kernelspec": {
   "display_name": "Python 2",
   "language": "python",
   "name": "python2"
  },
  "language_info": {
   "codemirror_mode": {
    "name": "ipython",
    "version": 2
   },
   "file_extension": ".py",
   "mimetype": "text/x-python",
   "name": "python",
   "nbconvert_exporter": "python",
   "pygments_lexer": "ipython2",
   "version": "2.7.15+"
  }
 },
 "nbformat": 4,
 "nbformat_minor": 2
}
